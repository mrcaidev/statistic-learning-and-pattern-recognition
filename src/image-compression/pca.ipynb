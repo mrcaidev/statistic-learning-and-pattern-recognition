{
 "cells": [
  {
   "attachments": {},
   "cell_type": "markdown",
   "metadata": {},
   "source": [
    "# PCA 压缩图像"
   ]
  },
  {
   "cell_type": "code",
   "execution_count": null,
   "metadata": {},
   "outputs": [],
   "source": [
    "import numpy as np\n",
    "import matplotlib.pyplot as plt\n",
    "\n",
    "plt.rcParams[\"font.sans-serif\"] = \"SimHei\"\n",
    "plt.rcParams[\"axes.unicode_minus\"] = False\n",
    "plt.tight_layout()"
   ]
  },
  {
   "attachments": {},
   "cell_type": "markdown",
   "metadata": {},
   "source": [
    "手动实现一个简易的 PCA，和 `scikit-learn` 的 PCA 保持相同 API："
   ]
  },
  {
   "cell_type": "code",
   "execution_count": null,
   "metadata": {},
   "outputs": [],
   "source": [
    "class PCA:\n",
    "    def __init__(self, n_components=None):\n",
    "        self.n_components = n_components\n",
    "        self.mean = None\n",
    "        self.components = None\n",
    "        self.explained_variance_ratio = None\n",
    "\n",
    "    def fit(self, data):\n",
    "        self.mean = np.mean(data, axis=0)\n",
    "        centered_data = data - self.mean\n",
    "\n",
    "        cov = np.cov(centered_data.T)\n",
    "        eigenvalues, eigenvectors = np.linalg.eig(cov)\n",
    "\n",
    "        sorted_indices = np.argsort(eigenvalues)[::-1]\n",
    "        eigenvalues = eigenvalues[sorted_indices]\n",
    "        eigenvectors = eigenvectors[:, sorted_indices]\n",
    "\n",
    "        self.components = eigenvectors[:, : self.n_components]\n",
    "        self.explained_variance_ratio = eigenvalues / np.sum(eigenvalues)\n",
    "\n",
    "    def transform(self, data):\n",
    "        centered_data = data - self.mean\n",
    "        return np.dot(centered_data, self.components)\n",
    "\n",
    "    def fit_transform(self, data):\n",
    "        self.fit(data)\n",
    "        return self.transform(data)\n",
    "\n",
    "    def inverse_transform(self, pca_data):\n",
    "        return np.dot(pca_data, self.components.T) + self.mean"
   ]
  },
  {
   "attachments": {},
   "cell_type": "markdown",
   "metadata": {},
   "source": [
    "读取图像，分别提取出 RGB 三个通道的数据，并分析它们的主成分。\n",
    "\n",
    "取 0.5、0.9、0.99、0.999 四个累计贡献率阈值，观察需要多少个主成分的共同贡献，才能达到这个精度。"
   ]
  },
  {
   "cell_type": "code",
   "execution_count": null,
   "metadata": {},
   "outputs": [],
   "source": [
    "image = plt.imread(\"butterfly.bmp\")\n",
    "\n",
    "red_component = image[:, :, 0]\n",
    "green_component = image[:, :, 1]\n",
    "blue_component = image[:, :, 2]\n",
    "\n",
    "configs = {\n",
    "    \"red\": {\n",
    "        \"title\": \"红色通道\",\n",
    "        \"color\": \"red\",\n",
    "        \"data\": red_component,\n",
    "        \"axis\": 0,\n",
    "    },\n",
    "    \"green\": {\n",
    "        \"title\": \"绿色通道\",\n",
    "        \"color\": \"green\",\n",
    "        \"data\": green_component,\n",
    "        \"axis\": 1,\n",
    "    },\n",
    "    \"blue\": {\n",
    "        \"title\": \"蓝色通道\",\n",
    "        \"color\": \"blue\",\n",
    "        \"data\": blue_component,\n",
    "        \"axis\": 2,\n",
    "    },\n",
    "}\n",
    "\n",
    "precision_list = (0.3, 0.5, 0.7, 0.9, 0.99)\n",
    "\n",
    "fig, axes = plt.subplots(1, 3, figsize=(15, 5))\n",
    "fig.suptitle(\"主成分数-累计贡献率\")\n",
    "\n",
    "\n",
    "def plot_accumulative_contribution(color):\n",
    "    config = configs[color]\n",
    "    title = config[\"title\"]\n",
    "    color = config[\"color\"]\n",
    "    data = config[\"data\"]\n",
    "    ax = axes[config[\"axis\"]]\n",
    "\n",
    "    pca = PCA()\n",
    "    pca.fit(data)\n",
    "    accumulative_contribution = np.cumsum(pca.explained_variance_ratio)\n",
    "    ax.plot(accumulative_contribution, color=color)\n",
    "    ax.set_title(title)\n",
    "\n",
    "    for precision in precision_list:\n",
    "        component_num = len(\n",
    "            accumulative_contribution[accumulative_contribution < precision]\n",
    "        )\n",
    "        ax.plot(component_num, precision, color=color, marker=\"o\")\n",
    "        ax.text(component_num + 5, precision - 0.04, f\"({component_num},{precision})\")\n",
    "\n",
    "\n",
    "plot_accumulative_contribution(\"red\")\n",
    "plot_accumulative_contribution(\"green\")\n",
    "plot_accumulative_contribution(\"blue\")\n",
    "plt.show()"
   ]
  },
  {
   "attachments": {},
   "cell_type": "markdown",
   "metadata": {},
   "source": [
    "从上图可以看到，主成分的累计贡献率一开始随着主成分数的增加而快速上升，红色和绿色通道在 50 多个主成分时达到 99%，蓝色则需要 94 个。\n",
    "\n",
    "为了压缩的质量，我们以蓝色为准，分别选择 2、5、11、27、94 这五个主成分数，分别观察它们的压缩效果。"
   ]
  },
  {
   "cell_type": "code",
   "execution_count": null,
   "metadata": {},
   "outputs": [],
   "source": [
    "fig, axes = plt.subplots(2, 3, figsize=(15, 5))\n",
    "fig.suptitle(\"压缩效果对比图\")\n",
    "\n",
    "n_components_list = (2, 5, 11, 27, 94)\n",
    "\n",
    "for index, n_components in enumerate(n_components_list):\n",
    "    pca = PCA(n_components)\n",
    "    compressed = np.dstack(\n",
    "        (\n",
    "            pca.inverse_transform(pca.fit_transform(red_component)),\n",
    "            pca.inverse_transform(pca.fit_transform(green_component)),\n",
    "            pca.inverse_transform(pca.fit_transform(blue_component)),\n",
    "        )\n",
    "    ).astype(np.uint8)\n",
    "    ax = axes[index // 3, index % 3]\n",
    "    ax.imshow(compressed)\n",
    "    ax.set_title(f\"主成分数={n_components}，精度={precision_list[index]}\")\n",
    "    ax.set_xticks([])\n",
    "    ax.set_yticks([])\n",
    "\n",
    "axes[1][2].imshow(image)\n",
    "axes[1][2].set_title(\"原图\")\n",
    "axes[1][2].set_xticks([])\n",
    "axes[1][2].set_yticks([])\n",
    "plt.show()"
   ]
  }
 ],
 "metadata": {
  "kernelspec": {
   "display_name": "statistical-learning-and-pattern-recogniti-RLqFdNr9",
   "language": "python",
   "name": "python3"
  },
  "language_info": {
   "codemirror_mode": {
    "name": "ipython",
    "version": 3
   },
   "file_extension": ".py",
   "mimetype": "text/x-python",
   "name": "python",
   "nbconvert_exporter": "python",
   "pygments_lexer": "ipython3",
   "version": "3.11.3"
  },
  "orig_nbformat": 4
 },
 "nbformat": 4,
 "nbformat_minor": 2
}
