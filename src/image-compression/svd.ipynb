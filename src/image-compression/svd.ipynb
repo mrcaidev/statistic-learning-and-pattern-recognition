{
 "cells": [
  {
   "attachments": {},
   "cell_type": "markdown",
   "metadata": {},
   "source": [
    "# SVD 压缩图像"
   ]
  },
  {
   "cell_type": "code",
   "execution_count": null,
   "metadata": {},
   "outputs": [],
   "source": [
    "import numpy as np\n",
    "import matplotlib.pyplot as plt\n",
    "\n",
    "plt.rcParams[\"font.sans-serif\"] = \"SimHei\"\n",
    "plt.rcParams[\"axes.unicode_minus\"] = False\n",
    "plt.tight_layout()"
   ]
  },
  {
   "attachments": {},
   "cell_type": "markdown",
   "metadata": {},
   "source": [
    "读取图像，分别提取出 RGB 三个通道的数据，并对它们进行 SVD 分解。\n",
    "\n",
    "取 0.5、0.9、0.99、0.999 四个累计贡献率阈值，观察需要多少个奇异值的共同贡献，才能达到这个精度。"
   ]
  },
  {
   "cell_type": "code",
   "execution_count": null,
   "metadata": {},
   "outputs": [],
   "source": [
    "image = plt.imread(\"butterfly.bmp\")\n",
    "\n",
    "red_component = image[:, :, 0]\n",
    "green_component = image[:, :, 1]\n",
    "blue_component = image[:, :, 2]\n",
    "\n",
    "configs = {\n",
    "    \"red\": {\n",
    "        \"title\": \"红色通道\",\n",
    "        \"color\": \"red\",\n",
    "        \"data\": red_component,\n",
    "        \"axis\": 0,\n",
    "    },\n",
    "    \"green\": {\n",
    "        \"title\": \"绿色通道\",\n",
    "        \"color\": \"green\",\n",
    "        \"data\": green_component,\n",
    "        \"axis\": 1,\n",
    "    },\n",
    "    \"blue\": {\n",
    "        \"title\": \"蓝色通道\",\n",
    "        \"color\": \"blue\",\n",
    "        \"data\": blue_component,\n",
    "        \"axis\": 2,\n",
    "    },\n",
    "}\n",
    "\n",
    "precision_list = (0.3, 0.5, 0.7, 0.9, 0.99)\n",
    "\n",
    "fig, axes = plt.subplots(1, 3, figsize=(15, 5))\n",
    "fig.suptitle(\"主成分数-累计贡献率\")\n",
    "\n",
    "\n",
    "def plot_accumulative_contribution(color):\n",
    "    config = configs[color]\n",
    "    title = config[\"title\"]\n",
    "    color = config[\"color\"]\n",
    "    data = config[\"data\"]\n",
    "    ax = axes[config[\"axis\"]]\n",
    "\n",
    "    _, s, _ = np.linalg.svd(data)\n",
    "    accumulative_contribution = np.cumsum(s) / np.sum(s)\n",
    "\n",
    "    ax.plot(accumulative_contribution, color=color)\n",
    "    ax.set_title(title)\n",
    "\n",
    "    for precision in precision_list:\n",
    "        component_num = len(\n",
    "            accumulative_contribution[accumulative_contribution < precision]\n",
    "        )\n",
    "        ax.plot(component_num, precision, color=color, marker=\"o\")\n",
    "        ax.text(component_num + 5, precision - 0.04, f\"({component_num},{precision})\")\n",
    "\n",
    "\n",
    "plot_accumulative_contribution(\"red\")\n",
    "plot_accumulative_contribution(\"green\")\n",
    "plot_accumulative_contribution(\"blue\")\n",
    "plt.show()"
   ]
  },
  {
   "attachments": {},
   "cell_type": "markdown",
   "metadata": {},
   "source": [
    "从上图可以看到，奇异值的累计贡献率一开始随着秩数的增加而快速上升，在 170 个左右时达到 99%。\n",
    "\n",
    "为了压缩的质量，我们以蓝色为准，分别选择 4、13、34、95、176 这五个秩数，分别观察它们的压缩效果。"
   ]
  },
  {
   "cell_type": "code",
   "execution_count": null,
   "metadata": {},
   "outputs": [],
   "source": [
    "def compress_component(component, k):\n",
    "    u, s, vh = np.linalg.svd(component)\n",
    "    return (u[:, :k] @ np.diag(s[:k])) @ vh[:k]\n",
    "\n",
    "\n",
    "fig, axes = plt.subplots(2, 3, figsize=(15, 5))\n",
    "fig.suptitle(\"压缩效果对比图\")\n",
    "\n",
    "rank_list = (4, 13, 34, 95, 176)\n",
    "\n",
    "for index, rank in enumerate(rank_list):\n",
    "    compressed = np.dstack(\n",
    "        (\n",
    "            compress_component(red_component, rank),\n",
    "            compress_component(green_component, rank),\n",
    "            compress_component(blue_component, rank),\n",
    "        )\n",
    "    ).astype(np.uint8)\n",
    "    ax = axes[index // 3, index % 3]\n",
    "    ax.imshow(compressed)\n",
    "    ax.set_title(f\"秩={rank}，精度={precision_list[index]}\")\n",
    "    ax.set_xticks([])\n",
    "    ax.set_yticks([])\n",
    "\n",
    "axes[1][2].imshow(image)\n",
    "axes[1][2].set_title(\"原图\")\n",
    "axes[1][2].set_xticks([])\n",
    "axes[1][2].set_yticks([])\n",
    "plt.show()"
   ]
  }
 ],
 "metadata": {
  "kernelspec": {
   "display_name": "statistical-learning-and-pattern-recogniti-RLqFdNr9",
   "language": "python",
   "name": "python3"
  },
  "language_info": {
   "codemirror_mode": {
    "name": "ipython",
    "version": 3
   },
   "file_extension": ".py",
   "mimetype": "text/x-python",
   "name": "python",
   "nbconvert_exporter": "python",
   "pygments_lexer": "ipython3",
   "version": "3.11.3"
  },
  "orig_nbformat": 4
 },
 "nbformat": 4,
 "nbformat_minor": 2
}
