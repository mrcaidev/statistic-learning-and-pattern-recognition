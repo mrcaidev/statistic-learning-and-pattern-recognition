{
 "cells": [
  {
   "attachments": {},
   "cell_type": "markdown",
   "metadata": {},
   "source": [
    "# Logistic 回归"
   ]
  },
  {
   "cell_type": "code",
   "execution_count": null,
   "metadata": {},
   "outputs": [],
   "source": [
    "import gzip\n",
    "from time import time\n",
    "import numpy as np\n",
    "import matplotlib.pyplot as plt\n",
    "\n",
    "plt.rcParams[\"font.sans-serif\"] = \"SimHei\"\n",
    "plt.rcParams[\"axes.unicode_minus\"] = False\n",
    "plt.tight_layout()"
   ]
  },
  {
   "attachments": {},
   "cell_type": "markdown",
   "metadata": {},
   "source": [
    "使用梯度下降法实现 Logistic 回归。"
   ]
  },
  {
   "cell_type": "code",
   "execution_count": null,
   "metadata": {},
   "outputs": [],
   "source": [
    "class LogisticRegression:\n",
    "    def __init__(self, learning_rate=0.1, max_iter=500):\n",
    "        self._learning_rate = learning_rate\n",
    "        self._max_iter = max_iter\n",
    "        self._losses = []\n",
    "\n",
    "    def _logistic(self, z):\n",
    "        return 1 / (1 + np.exp(-z))\n",
    "\n",
    "    def _loss(self, h, y):\n",
    "        return -np.mean(y * np.log(h) + (1 - y) * np.log(1 - h))\n",
    "\n",
    "    @property\n",
    "    def _record_loss_interval(self):\n",
    "        return max(1, self._max_iter // 10)\n",
    "\n",
    "    def fit(self, X, y):\n",
    "        m, n = X.shape\n",
    "\n",
    "        self._theta = np.random.randn(m, 1) * 0.01\n",
    "\n",
    "        for iteration in range(self._max_iter):\n",
    "            z = np.dot(self._theta.T, X)\n",
    "            h = self._logistic(z)\n",
    "            gradient = np.dot(X, (h - y).T) / n\n",
    "            self._theta -= self._learning_rate * gradient\n",
    "\n",
    "            if (iteration + 1) % self._record_loss_interval == 0:\n",
    "                self._losses.append(self._loss(h, y))\n",
    "\n",
    "    def predict(self, X):\n",
    "        z = np.dot(self._theta.T, X)\n",
    "        h = self._logistic(z)\n",
    "        return int(h > 0.5)\n",
    "\n",
    "    def draw_loss(self):\n",
    "        plt.plot(\n",
    "            np.arange(1, len(self._losses) + 1) * self._record_loss_interval,\n",
    "            self._losses,\n",
    "        )\n",
    "        plt.xlabel(\"迭代次数\")\n",
    "        plt.ylabel(\"损失函数值\")\n",
    "        plt.title(\"损失函数曲线\")\n",
    "        plt.show()"
   ]
  },
  {
   "attachments": {},
   "cell_type": "markdown",
   "metadata": {},
   "source": [
    "加载数据集的 helper 函数。"
   ]
  },
  {
   "cell_type": "code",
   "execution_count": null,
   "metadata": {},
   "outputs": [],
   "source": [
    "def load_dataset(kind):\n",
    "    labels_path = f\"{kind}-labels-idx1-ubyte.gz\"\n",
    "    with gzip.open(labels_path, \"rb\") as fr:\n",
    "        labels = np.frombuffer(fr.read(), dtype=np.uint8, offset=8)\n",
    "\n",
    "    images_path = f\"{kind}-images-idx3-ubyte.gz\"\n",
    "    with gzip.open(images_path, \"rb\") as fr:\n",
    "        images = np.frombuffer(fr.read(), dtype=np.uint8, offset=16) / 255\n",
    "        images = images.reshape(labels.shape[0], 784).T\n",
    "        images = np.vstack((np.ones(labels.shape[0]), images))\n",
    "\n",
    "    filter_indices = np.where((labels == 0) | (labels == 1))[0]\n",
    "    labels = labels[filter_indices]\n",
    "    images = images[:, filter_indices]\n",
    "\n",
    "    shuffle_indices = np.random.permutation(labels.shape[0])\n",
    "    labels = labels[shuffle_indices]\n",
    "    images = images[:, shuffle_indices]\n",
    "\n",
    "    return images, labels"
   ]
  },
  {
   "attachments": {},
   "cell_type": "markdown",
   "metadata": {},
   "source": [
    "训练模型，绘制损失函数曲线。"
   ]
  },
  {
   "cell_type": "code",
   "execution_count": null,
   "metadata": {},
   "outputs": [],
   "source": [
    "train_images, train_labels = load_dataset(\"train\")\n",
    "test_images, test_labels = load_dataset(\"t10k\")\n",
    "\n",
    "elapsed_time = -time()\n",
    "model = LogisticRegression()\n",
    "model.fit(train_images, train_labels)\n",
    "elapsed_time += time()\n",
    "\n",
    "print(f\"Optimization took {elapsed_time:.2f} seconds.\")\n",
    "model.draw_loss()"
   ]
  },
  {
   "attachments": {},
   "cell_type": "markdown",
   "metadata": {},
   "source": [
    "在训练集和测试集上分别测试准确率。"
   ]
  },
  {
   "cell_type": "code",
   "execution_count": null,
   "metadata": {},
   "outputs": [],
   "source": [
    "train_predictions = [model.predict(image) for image in train_images.T]\n",
    "train_accuracy = np.mean(train_predictions == train_labels) * 100\n",
    "print(f\"Training accuracy: {train_accuracy:.2f}%\")\n",
    "\n",
    "test_predictions = [model.predict(image) for image in test_images.T]\n",
    "test_accuracy = np.mean(test_predictions == test_labels) * 100\n",
    "print(f\"Test accuracy: {test_accuracy:.2f}%\")"
   ]
  }
 ],
 "metadata": {
  "kernelspec": {
   "display_name": "statistic-learning-and-pattern-recognition-ZBD5WbeZ",
   "language": "python",
   "name": "python3"
  },
  "language_info": {
   "codemirror_mode": {
    "name": "ipython",
    "version": 3
   },
   "file_extension": ".py",
   "mimetype": "text/x-python",
   "name": "python",
   "nbconvert_exporter": "python",
   "pygments_lexer": "ipython3",
   "version": "3.11.3"
  },
  "orig_nbformat": 4
 },
 "nbformat": 4,
 "nbformat_minor": 2
}
