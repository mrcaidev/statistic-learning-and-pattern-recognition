{
 "cells": [
  {
   "attachments": {},
   "cell_type": "markdown",
   "metadata": {},
   "source": [
    "# 梯度下降线性回归"
   ]
  },
  {
   "cell_type": "code",
   "execution_count": null,
   "metadata": {},
   "outputs": [],
   "source": [
    "import numpy as np\n",
    "import matplotlib.pyplot as plt\n",
    "\n",
    "plt.rcParams[\"font.sans-serif\"] = \"SimHei\"\n",
    "plt.rcParams[\"axes.unicode_minus\"] = False\n",
    "plt.tight_layout()\n"
   ]
  },
  {
   "attachments": {},
   "cell_type": "markdown",
   "metadata": {},
   "source": [
    "读取房价数据集，随机打乱记录顺序。"
   ]
  },
  {
   "cell_type": "code",
   "execution_count": null,
   "metadata": {},
   "outputs": [],
   "source": [
    "housing = np.loadtxt(\"housing.data\").T\n",
    "housing = housing[:, np.random.permutation(housing.shape[1])]\n"
   ]
  },
  {
   "attachments": {},
   "cell_type": "markdown",
   "metadata": {},
   "source": [
    "划分训练集和测试集。"
   ]
  },
  {
   "cell_type": "code",
   "execution_count": null,
   "metadata": {},
   "outputs": [],
   "source": [
    "X = housing[:-1, :]\n",
    "X = (X - X.mean(axis=1, keepdims=True)) / X.std(axis=1, keepdims=True)\n",
    "X = np.vstack((np.ones(X.shape[1]), X))\n",
    "y = housing[-1, :]\n",
    "\n",
    "TRAINSET_SIZE = 400\n",
    "train_X = X[:, :TRAINSET_SIZE]\n",
    "train_y = y[:TRAINSET_SIZE]\n",
    "test_X = X[:, TRAINSET_SIZE:]\n",
    "test_y = y[TRAINSET_SIZE:]\n"
   ]
  },
  {
   "attachments": {},
   "cell_type": "markdown",
   "metadata": {},
   "source": [
    "使用梯度下降法训练权重向量。"
   ]
  },
  {
   "cell_type": "code",
   "execution_count": null,
   "metadata": {},
   "outputs": [],
   "source": [
    "m, n = train_X.shape\n",
    "theta = np.random.rand(m, 1)\n",
    "\n",
    "LEARNING_RATE = 0.01\n",
    "ITERATION_NUM = 1000\n",
    "\n",
    "costs = []\n",
    "\n",
    "for iteration in range(ITERATION_NUM):\n",
    "    difference = np.dot(theta.T, train_X) - train_y\n",
    "    gradient = np.dot(train_X, difference.T) / n\n",
    "    theta -= LEARNING_RATE * gradient\n",
    "\n",
    "    cost = np.sum(difference**2) / (2 * n)\n",
    "    if iteration % 100 == 0:\n",
    "        costs.append(cost)\n"
   ]
  },
  {
   "attachments": {},
   "cell_type": "markdown",
   "metadata": {},
   "source": [
    "绘制预测值与真实值对比的散点图，和损失值变化的折线图。"
   ]
  },
  {
   "cell_type": "code",
   "execution_count": null,
   "metadata": {},
   "outputs": [],
   "source": [
    "fig, axes = plt.subplots(1, 2, figsize=(10, 4))\n",
    "\n",
    "sort_index = test_y.argsort()\n",
    "test_X = test_X[:, sort_index]\n",
    "test_y = test_y[sort_index]\n",
    "\n",
    "x_axis = np.arange(len(test_y))\n",
    "predictions = [np.dot(theta.T, x)[0] for x in test_X.T]\n",
    "axes[0].scatter(x_axis, predictions, s=5, c=\"blue\", label=\"预测值\")\n",
    "axes[0].scatter(x_axis, test_y, s=5, c=\"red\", label=\"真实值\")\n",
    "axes[0].set_xlabel(\"编号\")\n",
    "axes[0].set_ylabel(\"价格\")\n",
    "axes[0].legend()\n",
    "\n",
    "axes[1].plot(np.arange(len(costs)) * 100, costs)\n",
    "axes[1].set_xlabel(\"迭代次数\")\n",
    "axes[1].set_ylabel(\"损失值\")\n",
    "\n",
    "fig.suptitle(\"梯度下降线性回归预测房价\")\n",
    "plt.show()\n"
   ]
  }
 ],
 "metadata": {
  "kernelspec": {
   "display_name": "statistical-learning-and-pattern-recogniti-RLqFdNr9",
   "language": "python",
   "name": "python3"
  },
  "language_info": {
   "codemirror_mode": {
    "name": "ipython",
    "version": 3
   },
   "file_extension": ".py",
   "mimetype": "text/x-python",
   "name": "python",
   "nbconvert_exporter": "python",
   "pygments_lexer": "ipython3",
   "version": "3.11.3"
  },
  "orig_nbformat": 4
 },
 "nbformat": 4,
 "nbformat_minor": 2
}
