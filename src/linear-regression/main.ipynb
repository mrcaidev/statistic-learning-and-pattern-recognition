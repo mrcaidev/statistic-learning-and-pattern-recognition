{
 "cells": [
  {
   "attachments": {},
   "cell_type": "markdown",
   "metadata": {},
   "source": [
    "# 线性回归"
   ]
  },
  {
   "cell_type": "code",
   "execution_count": null,
   "metadata": {},
   "outputs": [],
   "source": [
    "from time import time\n",
    "import numpy as np\n",
    "import matplotlib.pyplot as plt\n",
    "\n",
    "plt.rcParams[\"font.sans-serif\"] = \"SimHei\"\n",
    "plt.rcParams[\"axes.unicode_minus\"] = False\n",
    "plt.tight_layout()"
   ]
  },
  {
   "attachments": {},
   "cell_type": "markdown",
   "metadata": {},
   "source": [
    "使用梯度下降法实现线性回归。"
   ]
  },
  {
   "cell_type": "code",
   "execution_count": null,
   "metadata": {},
   "outputs": [],
   "source": [
    "class LinearRegression:\n",
    "    def __init__(self, learning_rate=0.1, max_iter=500):\n",
    "        self._learning_rate = learning_rate\n",
    "        self._max_iter = max_iter\n",
    "        self._losses = []\n",
    "\n",
    "    def _loss(self, h, y):\n",
    "        return np.mean((h - y) ** 2) / 2\n",
    "\n",
    "    def fit(self, X, y):\n",
    "        m, n = X.shape\n",
    "        self._theta = np.random.rand(m, 1)\n",
    "\n",
    "        for iteration in range(self._max_iter):\n",
    "            h = np.dot(self._theta.T, X)\n",
    "            gradient = np.dot(X, (h - y).T) / n\n",
    "            self._theta -= self._learning_rate * gradient\n",
    "\n",
    "            if (iteration + 1) % 100 == 0:\n",
    "                self._losses.append(self._loss(h, y))\n",
    "\n",
    "    def predict(self, X):\n",
    "        return np.dot(self._theta.T, X)[0]\n",
    "\n",
    "    def draw_loss(self):\n",
    "        plt.plot(np.arange(1, len(self._losses) + 1) * 100, self._losses)\n",
    "        plt.xlabel(\"迭代次数\")\n",
    "        plt.ylabel(\"损失函数值\")\n",
    "        plt.title(\"损失函数曲线\")\n",
    "        plt.show()"
   ]
  },
  {
   "attachments": {},
   "cell_type": "markdown",
   "metadata": {},
   "source": [
    "加载数据集的 helper 函数。"
   ]
  },
  {
   "cell_type": "code",
   "execution_count": null,
   "metadata": {},
   "outputs": [],
   "source": [
    "TRAINSET_SIZE = 400\n",
    "\n",
    "\n",
    "def load_dataset():\n",
    "    housing = np.loadtxt(\"housing.data\").T\n",
    "    housing = housing[:, np.random.permutation(housing.shape[1])]\n",
    "\n",
    "    houses = housing[:-1, :]\n",
    "    houses = (houses - houses.mean(axis=1, keepdims=True)) / houses.std(\n",
    "        axis=1, keepdims=True\n",
    "    )\n",
    "    houses = np.vstack((np.ones(houses.shape[1]), houses))\n",
    "    prices = housing[-1, :]\n",
    "\n",
    "    train_houses = houses[:, :TRAINSET_SIZE]\n",
    "    train_prices = prices[:TRAINSET_SIZE]\n",
    "    test_houses = houses[:, TRAINSET_SIZE:]\n",
    "    test_prices = prices[TRAINSET_SIZE:]\n",
    "\n",
    "    sort_indices = test_prices.argsort()\n",
    "    test_houses = test_houses[:, sort_indices]\n",
    "    test_prices = test_prices[sort_indices]\n",
    "\n",
    "    return [train_houses, train_prices], [test_houses, test_prices]"
   ]
  },
  {
   "attachments": {},
   "cell_type": "markdown",
   "metadata": {},
   "source": [
    "训练模型，绘制损失值曲线。"
   ]
  },
  {
   "cell_type": "code",
   "execution_count": null,
   "metadata": {},
   "outputs": [],
   "source": [
    "[train_houses, train_prices], [test_houses, test_prices] = load_dataset()\n",
    "\n",
    "start_time = time()\n",
    "model = LinearRegression()\n",
    "model.fit(train_houses, train_prices)\n",
    "end_time = time()\n",
    "\n",
    "print(f\"Optimization took {end_time - start_time:.2f} seconds.\")\n",
    "model.draw_loss()"
   ]
  },
  {
   "attachments": {},
   "cell_type": "markdown",
   "metadata": {},
   "source": [
    "预测房价，绘制散点图与真实值对比。"
   ]
  },
  {
   "cell_type": "code",
   "execution_count": null,
   "metadata": {},
   "outputs": [],
   "source": [
    "predictions = [model.predict(x) for x in test_houses.T]\n",
    "\n",
    "x_axis = np.arange(len(test_prices))\n",
    "plt.scatter(x_axis, predictions, s=5, c=\"blue\", label=\"预测值\")\n",
    "plt.scatter(x_axis, test_prices, s=5, c=\"red\", label=\"真实值\")\n",
    "plt.xlabel(\"编号\")\n",
    "plt.ylabel(\"价格\")\n",
    "plt.legend()\n",
    "plt.show()"
   ]
  }
 ],
 "metadata": {
  "kernelspec": {
   "display_name": "statistical-learning-and-pattern-recogniti-RLqFdNr9",
   "language": "python",
   "name": "python3"
  },
  "language_info": {
   "codemirror_mode": {
    "name": "ipython",
    "version": 3
   },
   "file_extension": ".py",
   "mimetype": "text/x-python",
   "name": "python",
   "nbconvert_exporter": "python",
   "pygments_lexer": "ipython3",
   "version": "3.11.3"
  },
  "orig_nbformat": 4
 },
 "nbformat": 4,
 "nbformat_minor": 2
}
